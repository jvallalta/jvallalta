{
  "nbformat": 4,
  "nbformat_minor": 0,
  "metadata": {
    "colab": {
      "name": "IntroGANS.ipynb",
      "provenance": [],
      "authorship_tag": "ABX9TyP78yFJ5mtk5TPwdpeG7ThO",
      "include_colab_link": true
    },
    "kernelspec": {
      "name": "python3",
      "display_name": "Python 3"
    },
    "language_info": {
      "name": "python"
    }
  },
  "cells": [
    {
      "cell_type": "markdown",
      "metadata": {
        "id": "view-in-github",
        "colab_type": "text"
      },
      "source": [
        "<a href=\"https://colab.research.google.com/github/jvallalta/jvallalta/blob/main/IntroGANS.ipynb\" target=\"_parent\"><img src=\"https://colab.research.google.com/assets/colab-badge.svg\" alt=\"Open In Colab\"/></a>"
      ]
    },
    {
      "cell_type": "markdown",
      "source": [
        ""
      ],
      "metadata": {
        "id": "V3B1CACRHD8u"
      }
    },
    {
      "cell_type": "markdown",
      "source": [
        "<img src=https://healthdataminer.com/wp-content/uploads/2021/05/LogoAzul.png align=\"right\" style=\"float\" width=\"200\">\n",
        "<font color=\"#002856\"><h1 align=\"left\">Introducción a las GANs</h1></font>\n",
        "\n",
        "#### Juan Francisco Vallalta Rueda\n",
        "---"
      ],
      "metadata": {
        "id": "ojkPTLUkHG9R"
      }
    },
    {
      "cell_type": "markdown",
      "source": [
        "# Objetivos de aprendizaje\n",
        "- Construir tu primera GAN.\n",
        "- Desarrollar la intuición dentras de las GANs y sus componentes.\n",
        "- Examinar aplicaciones reales de las GANs."
      ],
      "metadata": {
        "id": "FReTvXRzH1MH"
      }
    },
    {
      "cell_type": "markdown",
      "source": [
        "# Modelos generativos"
      ],
      "metadata": {
        "id": "oKR5crx9ITJe"
      }
    },
    {
      "cell_type": "markdown",
      "source": [
        "Un modelo discriminativo es el que se usa habitualmente para tareas de clasificacion en aprendizaje automático. Aprenden a distinguir entre clases, como paciente con nódulo pulmonar o no, y se les denomina comunmente clasificadores. Tienen como entrada un conjunto de características X (radiografía de tórax) y, a partir de ellas, determinan una categoría Y (nódulo/no nódulo). En otros términos tratan de modelar la probabilidad condicinada P(Y|X). \n",
        "\n",
        "Los modelos generativos tratan de aprender a hacer una representación realista de una clase. Por ejemplo, una radiografía de tórax con un nódulo pulmonar. Tienen como entrada ruido aleatoria y la clase Y y generan como salida el conjunto de características realistas X que representan a la clase Y. El ruido aleatorio asegura que las caracteristicas que se generen no sean la misma cada vez. Los modelos generativos tratan de modelar la probabilidad P(X|Y).  Si sólo quieres generar una clase entonces se está modelando la probabilidad P(X).\n",
        "\n",
        "Hay muchos tipos de modelos generativos. Los más habituales son:\n",
        "- Autoencoders variacionales (VAE).\n",
        "- Redes generativas adversarias (GANs)\n",
        "\n",
        "Los VAE funcionan con 2 modelos, el encoder y el decoder, normalmente redes neuronales. Aprenden, en primer lugar, a representar imágenes realistas en un espacio latente. Cada punto del espacio latente, una vector de números, representa una imagen. El decodificador es capaz de reconstruir la imagen a partir de la representación de la misma en el espacio latente.\n",
        "\n",
        "Después del entrenamiento le podemos pasar cualquier punto del espacio latente y el decodificador será capaz de generar la imagen realista asociada. En un VAE, en vez de representar cada imagen mediante un vector se representa mediante una distribución de probabilidad.\n",
        "\n",
        "En una GAN las cosas funcionan de forma distinta. Está formado por dos modelos. El generador que genera imágenes y el discriminador, que es un modelo discriminativo. El generador toma como entrada ruido aleatorio y generar una imagen de la clase. Tiene una función muy parecida al decoder del VAE. La diferencia es que aquí no hay um encoder que determine qué forma tiene que tener el ruido. Lo que tenemos es un discriminador mirando imágenes reales y falsas y tratando de determinar cuál es real y cuál falsa. Estos modelos compiten entre sí, y de ahi, su nombre de adversarios. Cuando se ha producido el aprendizaje podemos utilizarel generador para producir imágenes realistas.\n",
        "\n",
        "En resumen, los modelos generativos tratan de aprender a generar imágene realistas. Son como artistas que están intentado a aprender a pintar imagenes fotorealistas. Los modelos discriminativos tratan de distinguir entre clases. Un modelo discriminativo puede ser parte de un modelo generativo como ocurre en las GAN en las que aprende a distinguir entre real y falso."
      ],
      "metadata": {
        "id": "p5tyuvJqIJSO"
      }
    },
    {
      "cell_type": "code",
      "source": [
        ""
      ],
      "metadata": {
        "id": "YlfB09DCLcKu"
      },
      "execution_count": null,
      "outputs": []
    }
  ]
}